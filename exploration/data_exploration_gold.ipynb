{
 "cells": [
  {
   "attachments": {},
   "cell_type": "markdown",
   "metadata": {},
   "source": [
    "Visualizando resultados da tabela agregada"
   ]
  },
  {
   "cell_type": "code",
   "execution_count": 2,
   "metadata": {},
   "outputs": [],
   "source": [
    "\n",
    "from pyspark.sql import SparkSession\n",
    "\n",
    "spark = SparkSession.builder \\\n",
    "    .appName(\"Data Exploration Gold\") \\\n",
    "    .getOrCreate()"
   ]
  },
  {
   "cell_type": "code",
   "execution_count": 3,
   "metadata": {},
   "outputs": [
    {
     "name": "stderr",
     "output_type": "stream",
     "text": [
      "                                                                                \r"
     ]
    }
   ],
   "source": [
    "folder_name = '/home/fabiana/Área de Trabalho/assignment-diario-de-bordo-dados/data/outputs/gold'\n",
    "df_gold = spark.read.parquet(folder_name)"
   ]
  },
  {
   "cell_type": "code",
   "execution_count": 4,
   "metadata": {},
   "outputs": [
    {
     "name": "stdout",
     "output_type": "stream",
     "text": [
      "root\n",
      " |-- QT_CORR: long (nullable = true)\n",
      " |-- QT_CORR_NEG: long (nullable = true)\n",
      " |-- QT_CORR_PESS: long (nullable = true)\n",
      " |-- VL_MAX_DIST: integer (nullable = true)\n",
      " |-- VL_MIN_DIST: integer (nullable = true)\n",
      " |-- VL_MED_DIST: double (nullable = true)\n",
      " |-- QT_CORR_REUNI: long (nullable = true)\n",
      " |-- QT_CORR_NAO_REUNI: long (nullable = true)\n",
      " |-- DT_REFE: date (nullable = true)\n",
      "\n"
     ]
    }
   ],
   "source": [
    "df_gold.printSchema()"
   ]
  },
  {
   "cell_type": "code",
   "execution_count": 5,
   "metadata": {},
   "outputs": [
    {
     "name": "stderr",
     "output_type": "stream",
     "text": [
      "[Stage 2:>                                                          (0 + 1) / 1]\r"
     ]
    },
    {
     "name": "stdout",
     "output_type": "stream",
     "text": [
      "+-------+-----------+------------+-----------+-----------+-----------+-------------+-----------------+----------+\n",
      "|QT_CORR|QT_CORR_NEG|QT_CORR_PESS|VL_MAX_DIST|VL_MIN_DIST|VL_MED_DIST|QT_CORR_REUNI|QT_CORR_NAO_REUNI|   DT_REFE|\n",
      "+-------+-----------+------------+-----------+-----------+-----------+-------------+-----------------+----------+\n",
      "|      3|          3|           0|         19|         16|       17.3|            0|                3|2016-01-11|\n",
      "|      1|          1|           0|        132|        132|      132.0|            0|                1|2016-10-21|\n",
      "|      1|          1|           0|         62|         62|       62.0|            0|                1|2016-10-15|\n",
      "|      4|          4|           0|       1956|         58|      546.3|            0|                4|2016-09-27|\n",
      "|      4|          4|           0|         79|         38|       49.8|            0|                4|2016-11-04|\n",
      "|      8|          8|           0|        127|          7|       51.4|            1|                7|2016-11-09|\n",
      "|      4|          4|           0|        132|          7|       85.3|            0|                4|2016-07-08|\n",
      "|      5|          5|           0|        145|         15|       90.4|            0|                5|2016-05-16|\n",
      "|      7|          7|           0|        108|         17|       52.4|            0|                7|2016-10-19|\n",
      "|      3|          3|           0|        174|         69|      130.7|            0|                3|2016-08-09|\n",
      "|      4|          4|           0|         59|         13|       31.0|            0|                4|2016-11-23|\n",
      "|      3|          3|           0|         45|         12|       24.7|            0|                3|2016-05-27|\n",
      "|      4|          4|           0|         53|          3|       35.0|            0|                4|2016-12-02|\n",
      "|      3|          3|           0|        233|         39|      155.3|            0|                3|2016-02-01|\n",
      "|      5|          5|           0|         99|         31|       65.0|            1|                4|2016-07-06|\n",
      "|      1|          1|           0|          8|          8|        8.0|            0|                1|2016-04-06|\n",
      "|      8|          8|           0|        107|          6|       40.9|            0|                8|2016-12-24|\n",
      "|      5|          5|           0|         21|          1|        8.8|            0|                5|2016-03-11|\n",
      "|      1|          1|           0|         76|         76|       76.0|            0|                1|2016-08-18|\n",
      "|      1|          1|           0|         16|         16|       16.0|            0|                1|2016-09-16|\n",
      "+-------+-----------+------------+-----------+-----------+-----------+-------------+-----------------+----------+\n",
      "only showing top 20 rows\n",
      "\n"
     ]
    },
    {
     "name": "stderr",
     "output_type": "stream",
     "text": [
      "                                                                                \r"
     ]
    }
   ],
   "source": [
    "df_gold.show()"
   ]
  }
 ],
 "metadata": {
  "kernelspec": {
   "display_name": "Python 3",
   "language": "python",
   "name": "python3"
  },
  "language_info": {
   "codemirror_mode": {
    "name": "ipython",
    "version": 3
   },
   "file_extension": ".py",
   "mimetype": "text/x-python",
   "name": "python",
   "nbconvert_exporter": "python",
   "pygments_lexer": "ipython3",
   "version": "3.10.12"
  },
  "orig_nbformat": 4
 },
 "nbformat": 4,
 "nbformat_minor": 2
}
