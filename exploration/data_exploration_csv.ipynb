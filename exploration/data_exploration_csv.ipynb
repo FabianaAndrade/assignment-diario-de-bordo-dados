{
 "cells": [
  {
   "cell_type": "code",
   "execution_count": 2,
   "metadata": {},
   "outputs": [],
   "source": [
    "\n",
    "from pyspark.sql import SparkSession\n",
    "\n",
    "spark = SparkSession.builder \\\n",
    "    .appName(\"Data Exploration\") \\\n",
    "    .getOrCreate()"
   ]
  },
  {
   "attachments": {},
   "cell_type": "markdown",
   "metadata": {},
   "source": [
    "-Entendendo arquivo fonte(csv) para aplicar as futuras regras de transformacao nos dados\n",
    "    - tam da base de dados\n",
    "    - Verificando tipo das variaveis\n",
    "    - valores faltantes\n",
    "    - valores nulos"
   ]
  },
  {
   "cell_type": "code",
   "execution_count": 9,
   "metadata": {},
   "outputs": [
    {
     "name": "stdout",
     "output_type": "stream",
     "text": [
      "total_registros:  1153\n",
      "root\n",
      " |-- DATA_INICIO: string (nullable = true)\n",
      " |-- DATA_FIM: string (nullable = true)\n",
      " |-- CATEGORIA: string (nullable = true)\n",
      " |-- LOCAL_INICIO: string (nullable = true)\n",
      " |-- LOCAL_FIM: string (nullable = true)\n",
      " |-- DISTANCIA: integer (nullable = true)\n",
      " |-- PROPOSITO: string (nullable = true)\n",
      "\n",
      "+----------------+----------------+---------+------------+---------------+---------+-----------------+\n",
      "|     DATA_INICIO|        DATA_FIM|CATEGORIA|LOCAL_INICIO|      LOCAL_FIM|DISTANCIA|        PROPOSITO|\n",
      "+----------------+----------------+---------+------------+---------------+---------+-----------------+\n",
      "|01-01-2016 21:11|01-01-2016 21:17|  Negocio| Fort Pierce|    Fort Pierce|       51|      Alimentação|\n",
      "|01-02-2016 01:25|01-02-2016 01:37|  Negocio| Fort Pierce|    Fort Pierce|        5|             null|\n",
      "|01-02-2016 20:25|01-02-2016 20:38|  Negocio| Fort Pierce|    Fort Pierce|       48|         Entregas|\n",
      "|01-05-2016 17:31|01-05-2016 17:45|  Negocio| Fort Pierce|    Fort Pierce|       47|          Reunião|\n",
      "|01-06-2016 14:42|01-06-2016 15:49|  Negocio| Fort Pierce|West Palm Beach|      637|Visita ao cliente|\n",
      "+----------------+----------------+---------+------------+---------------+---------+-----------------+\n",
      "only showing top 5 rows\n",
      "\n"
     ]
    }
   ],
   "source": [
    "from pyspark.sql import SparkSession\n",
    "\n",
    "path_csv = '/home/fabiana/Área de Trabalho/assignment-diario-de-bordo-dados/data/inputs/info_transportes.csv'\n",
    "\n",
    "df_csv = spark.read.csv(path_csv, header=True, inferSchema=True, sep=\";\")\n",
    "print(f\"total_registros: \", df_csv.count())\n",
    "df_csv.printSchema()\n",
    "df_csv.show(5)"
   ]
  },
  {
   "cell_type": "code",
   "execution_count": 23,
   "metadata": {},
   "outputs": [
    {
     "name": "stdout",
     "output_type": "stream",
     "text": [
      "+-----------+--------+---------+------------+---------+---------+---------+\n",
      "|DATA_INICIO|DATA_FIM|CATEGORIA|LOCAL_INICIO|LOCAL_FIM|DISTANCIA|PROPOSITO|\n",
      "+-----------+--------+---------+------------+---------+---------+---------+\n",
      "+-----------+--------+---------+------------+---------+---------+---------+\n",
      "\n"
     ]
    }
   ],
   "source": [
    "df_csv.filter(df_csv[\"DATA_INICIO\"].isNull()).show()"
   ]
  },
  {
   "cell_type": "code",
   "execution_count": 24,
   "metadata": {},
   "outputs": [
    {
     "name": "stdout",
     "output_type": "stream",
     "text": [
      "+-----------+--------+---------+------------+---------+---------+---------+\n",
      "|DATA_INICIO|DATA_FIM|CATEGORIA|LOCAL_INICIO|LOCAL_FIM|DISTANCIA|PROPOSITO|\n",
      "+-----------+--------+---------+------------+---------+---------+---------+\n",
      "+-----------+--------+---------+------------+---------+---------+---------+\n",
      "\n"
     ]
    }
   ],
   "source": [
    "df_csv.filter(df_csv[\"DATA_FIM\"].isNull()).show()"
   ]
  },
  {
   "cell_type": "code",
   "execution_count": 22,
   "metadata": {},
   "outputs": [
    {
     "name": "stdout",
     "output_type": "stream",
     "text": [
      "+---------+-----+\n",
      "|CATEGORIA|count|\n",
      "+---------+-----+\n",
      "|  Negocio| 1076|\n",
      "|  Pessoal|   77|\n",
      "+---------+-----+\n",
      "\n"
     ]
    }
   ],
   "source": [
    "df_csv.groupBy(\"CATEGORIA\") \\\n",
    "    .count() \\\n",
    "    .orderBy(\"count\", ascending=False).show()"
   ]
  },
  {
   "cell_type": "code",
   "execution_count": 20,
   "metadata": {},
   "outputs": [
    {
     "name": "stdout",
     "output_type": "stream",
     "text": [
      "+----------------+-----+\n",
      "|    LOCAL_INICIO|count|\n",
      "+----------------+-----+\n",
      "|            Cary|  201|\n",
      "|Unknown Location|  148|\n",
      "|     Morrisville|   85|\n",
      "|     Whitebridge|   68|\n",
      "|       Islamabad|   57|\n",
      "|          Durham|   37|\n",
      "|          Lahore|   36|\n",
      "|          Karchi|   31|\n",
      "|         Raleigh|   28|\n",
      "|  Westpark Place|   17|\n",
      "|            Apex|   17|\n",
      "|        Berkeley|   16|\n",
      "|         Midtown|   14|\n",
      "|      R?walpindi|   11|\n",
      "|          Kenner|   11|\n",
      "|       Kissimmee|   11|\n",
      "|     New Orleans|   10|\n",
      "|      Emeryville|   10|\n",
      "|        Downtown|    9|\n",
      "|         Colombo|    8|\n",
      "+----------------+-----+\n",
      "only showing top 20 rows\n",
      "\n",
      "+-----------+--------+---------+------------+---------+---------+---------+\n",
      "|DATA_INICIO|DATA_FIM|CATEGORIA|LOCAL_INICIO|LOCAL_FIM|DISTANCIA|PROPOSITO|\n",
      "+-----------+--------+---------+------------+---------+---------+---------+\n",
      "+-----------+--------+---------+------------+---------+---------+---------+\n",
      "\n"
     ]
    }
   ],
   "source": [
    "df_csv.groupBy(\"LOCAL_INICIO\") \\\n",
    "    .count() \\\n",
    "    .orderBy(\"count\", ascending=False).show()\n",
    "\n",
    "df_csv.filter(df_csv[\"LOCAL_INICIO\"].isNull()).show()"
   ]
  },
  {
   "cell_type": "code",
   "execution_count": 21,
   "metadata": {},
   "outputs": [
    {
     "name": "stdout",
     "output_type": "stream",
     "text": [
      "+----------------+-----+\n",
      "|       LOCAL_FIM|count|\n",
      "+----------------+-----+\n",
      "|            Cary|  203|\n",
      "|Unknown Location|  149|\n",
      "|     Morrisville|   84|\n",
      "|     Whitebridge|   64|\n",
      "|       Islamabad|   58|\n",
      "|          Durham|   36|\n",
      "|          Lahore|   36|\n",
      "|         Raleigh|   29|\n",
      "|          Karchi|   28|\n",
      "|            Apex|   17|\n",
      "|        Berkeley|   16|\n",
      "|  Westpark Place|   16|\n",
      "|      R?walpindi|   13|\n",
      "|       Kissimmee|   12|\n",
      "|         Midtown|   11|\n",
      "|     New Orleans|   10|\n",
      "|          Kenner|   10|\n",
      "|  Edgehill Farms|   10|\n",
      "|      Emeryville|    9|\n",
      "|         Central|    9|\n",
      "+----------------+-----+\n",
      "only showing top 20 rows\n",
      "\n",
      "+-----------+--------+---------+------------+---------+---------+---------+\n",
      "|DATA_INICIO|DATA_FIM|CATEGORIA|LOCAL_INICIO|LOCAL_FIM|DISTANCIA|PROPOSITO|\n",
      "+-----------+--------+---------+------------+---------+---------+---------+\n",
      "+-----------+--------+---------+------------+---------+---------+---------+\n",
      "\n"
     ]
    }
   ],
   "source": [
    "df_csv.groupBy(\"LOCAL_FIM\") \\\n",
    "    .count() \\\n",
    "    .orderBy(\"count\", ascending=False).show()\n",
    "\n",
    "df_csv.filter(df_csv[\"LOCAL_FIM\"].isNull()).show()"
   ]
  },
  {
   "cell_type": "code",
   "execution_count": 16,
   "metadata": {},
   "outputs": [
    {
     "data": {
      "text/plain": [
       "DataFrame[DATA_INICIO: string, DATA_FIM: string, CATEGORIA: string, LOCAL_INICIO: string, LOCAL_FIM: string, DISTANCIA: int, PROPOSITO: string]"
      ]
     },
     "execution_count": 16,
     "metadata": {},
     "output_type": "execute_result"
    }
   ],
   "source": [
    "df_csv.filter(df_csv[\"DISTANCIA\"] <= 0) or df_csv.filter(df_csv[\"DISTANCIA\"].isNull()).show()"
   ]
  },
  {
   "cell_type": "code",
   "execution_count": 19,
   "metadata": {},
   "outputs": [
    {
     "name": "stdout",
     "output_type": "stream",
     "text": [
      "+-----------------+-----+\n",
      "|        PROPOSITO|count|\n",
      "+-----------------+-----+\n",
      "|             null|  502|\n",
      "|          Reunião|  187|\n",
      "|      Alimentação|  160|\n",
      "|         Entregas|  128|\n",
      "|Visita ao cliente|  101|\n",
      "|Parada temporária|   48|\n",
      "|Entre escritórios|   18|\n",
      "|     Deslocamento|    5|\n",
      "| Aeroporto/Viagem|    3|\n",
      "|         Caridade|    1|\n",
      "+-----------------+-----+\n",
      "\n",
      "+----------------+----------------+---------+----------------+-------------------+---------+---------+\n",
      "|     DATA_INICIO|        DATA_FIM|CATEGORIA|    LOCAL_INICIO|          LOCAL_FIM|DISTANCIA|PROPOSITO|\n",
      "+----------------+----------------+---------+----------------+-------------------+---------+---------+\n",
      "|01-02-2016 01:25|01-02-2016 01:37|  Negocio|     Fort Pierce|        Fort Pierce|        5|     null|\n",
      "| 01-19-2016 9:09| 01-19-2016 9:23|  Negocio|     Whitebridge|Lake Wellingborough|       72|     null|\n",
      "|02-09-2016 10:54|02-09-2016 11:07|  Pessoal|     Whitebridge|         Northwoods|       53|     null|\n",
      "|02-09-2016 11:43|02-09-2016 11:50|  Pessoal|      Northwoods|         Tanglewood|        3|     null|\n",
      "|02-09-2016 13:36|02-09-2016 13:52|  Pessoal|      Tanglewood|            Preston|       51|     null|\n",
      "|02-09-2016 13:58|02-09-2016 14:02|  Pessoal|         Preston|        Whitebridge|       15|     null|\n",
      "|02-09-2016 18:55|02-09-2016 19:11|  Negocio|            Cary|        Morrisville|       61|     null|\n",
      "|02-13-2016 23:45| 02-13-2016 0:01|  Pessoal|   East Elmhurst|    Jackson Heights|       27|     null|\n",
      "| 02-13-2016 0:50| 02-13-2016 1:00|  Pessoal| Jackson Heights|      East Elmhurst|       18|     null|\n",
      "| 02-16-2016 8:29| 02-16-2016 9:34|  Negocio|Unknown Location|            Colombo|      141|     null|\n",
      "|02-16-2016 10:31|02-16-2016 10:41|  Negocio|         Colombo|            Colombo|       26|     null|\n",
      "|02-16-2016 11:32|02-16-2016 12:02|  Negocio|         Colombo|            Colombo|       45|     null|\n",
      "|02-16-2016 12:39|02-16-2016 12:42|  Negocio|         Colombo|            Colombo|       17|     null|\n",
      "|02-16-2016 16:34|02-16-2016 17:10|  Negocio|         Colombo|            Colombo|        6|     null|\n",
      "|02-19-2016 11:20|02-19-2016 11:26|  Pessoal|       Islamabad|          Islamabad|       15|     null|\n",
      "|02-19-2016 11:45|02-19-2016 11:50|  Pessoal|       Islamabad|          Islamabad|        1|     null|\n",
      "|02-19-2016 16:26|02-19-2016 16:45|  Negocio|Unknown Location|          Islamabad|       35|     null|\n",
      "|02-19-2016 17:09|02-19-2016 17:20|  Negocio|       Islamabad|          Islamabad|       42|     null|\n",
      "|02-19-2016 20:08|02-19-2016 20:30|  Pessoal|       Islamabad|   Unknown Location|      136|     null|\n",
      "|02-19-2016 20:34|02-19-2016 20:51|  Pessoal|Unknown Location|   Unknown Location|       25|     null|\n",
      "+----------------+----------------+---------+----------------+-------------------+---------+---------+\n",
      "only showing top 20 rows\n",
      "\n"
     ]
    }
   ],
   "source": [
    "df_csv.groupBy(\"PROPOSITO\") \\\n",
    "    .count() \\\n",
    "    .orderBy(\"count\", ascending=False).show()\n",
    "\n",
    "\n",
    "df_csv.filter(df_csv[\"PROPOSITO\"].isNull()).show()"
   ]
  }
 ],
 "metadata": {
  "kernelspec": {
   "display_name": "Python 3",
   "language": "python",
   "name": "python3"
  },
  "language_info": {
   "codemirror_mode": {
    "name": "ipython",
    "version": 3
   },
   "file_extension": ".py",
   "mimetype": "text/x-python",
   "name": "python",
   "nbconvert_exporter": "python",
   "pygments_lexer": "ipython3",
   "version": "3.10.12"
  },
  "orig_nbformat": 4
 },
 "nbformat": 4,
 "nbformat_minor": 2
}
